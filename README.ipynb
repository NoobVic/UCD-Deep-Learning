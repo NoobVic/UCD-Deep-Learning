{
 "cells": [
  {
   "cell_type": "markdown",
   "metadata": {},
   "source": [
    "# Stucture of the project:\n",
    "```\n",
    "- README\n",
    "\n",
    "- Main\n",
    "\n",
    "- Data folder (which is not in my submission)\n",
    "\n",
    "- Model_weight folder\n",
    "    <br>|\n",
    "    <br> ---> Model weight for normalized training data\n",
    "    <br> ---> Model weight for non-normalized training data"
   ]
  },
  {
   "cell_type": "markdown",
   "metadata": {},
   "source": [
    "## Step 1: Run the README notebook to install all requirements"
   ]
  },
  {
   "cell_type": "code",
   "execution_count": 5,
   "metadata": {},
   "outputs": [
    {
     "name": "stdout",
     "output_type": "stream",
     "text": [
      "Requirement already satisfied: torch in c:\\users\\17200334\\appdata\\local\\programs\\python\\python38\\lib\\site-packages (from -r requirements.txt (line 1)) (1.8.1)\n",
      "Requirement already satisfied: torchvision in c:\\users\\17200334\\appdata\\local\\programs\\python\\python38\\lib\\site-packages (from -r requirements.txt (line 2)) (0.9.1)\n",
      "Requirement already satisfied: scikit-learn in c:\\users\\17200334\\appdata\\local\\programs\\python\\python38\\lib\\site-packages (from -r requirements.txt (line 3)) (0.23.2)\n",
      "Requirement already satisfied: pyyaml in c:\\users\\17200334\\appdata\\local\\programs\\python\\python38\\lib\\site-packages (from -r requirements.txt (line 4)) (5.4.1)\n",
      "Requirement already satisfied: numpy in c:\\users\\17200334\\appdata\\local\\programs\\python\\python38\\lib\\site-packages (from -r requirements.txt (line 5)) (1.19.5)\n",
      "Requirement already satisfied: tqdm in c:\\users\\17200334\\appdata\\roaming\\python\\python38\\site-packages (from -r requirements.txt (line 6)) (4.56.0)\n",
      "Requirement already satisfied: pandas in c:\\users\\17200334\\appdata\\local\\programs\\python\\python38\\lib\\site-packages (from -r requirements.txt (line 7)) (1.1.4)\n",
      "Requirement already satisfied: matplotlib in c:\\users\\17200334\\appdata\\local\\programs\\python\\python38\\lib\\site-packages (from -r requirements.txt (line 8)) (3.3.3)\n",
      "Requirement already satisfied: jupyter in c:\\users\\17200334\\appdata\\local\\programs\\python\\python38\\lib\\site-packages (from -r requirements.txt (line 9)) (1.0.0)\n",
      "Requirement already satisfied: ipykernel in c:\\users\\17200334\\appdata\\local\\programs\\python\\python38\\lib\\site-packages (from -r requirements.txt (line 10)) (5.3.4)\n",
      "Requirement already satisfied: ruamel.yaml in c:\\users\\17200334\\appdata\\local\\programs\\python\\python38\\lib\\site-packages (from -r requirements.txt (line 11)) (0.17.4)\n",
      "Requirement already satisfied: tensorflow in c:\\users\\17200334\\appdata\\local\\programs\\python\\python38\\lib\\site-packages (from -r requirements.txt (line 12)) (2.4.1)\n",
      "Collecting pathlib\n",
      "  Using cached pathlib-1.0.1.tar.gz (49 kB)\n",
      "Requirement already satisfied: traitlets>=4.1.0 in c:\\users\\17200334\\appdata\\local\\programs\\python\\python38\\lib\\site-packages (from ipykernel->-r requirements.txt (line 10)) (5.0.5)\n",
      "Requirement already satisfied: jupyter-client in c:\\users\\17200334\\appdata\\local\\programs\\python\\python38\\lib\\site-packages (from ipykernel->-r requirements.txt (line 10)) (6.1.7)\n",
      "Requirement already satisfied: ipython>=5.0.0 in c:\\users\\17200334\\appdata\\local\\programs\\python\\python38\\lib\\site-packages (from ipykernel->-r requirements.txt (line 10)) (7.19.0)\n",
      "Requirement already satisfied: tornado>=4.2 in c:\\users\\17200334\\appdata\\local\\programs\\python\\python38\\lib\\site-packages (from ipykernel->-r requirements.txt (line 10)) (6.1)\n",
      "Requirement already satisfied: decorator in c:\\users\\17200334\\appdata\\local\\programs\\python\\python38\\lib\\site-packages (from ipython>=5.0.0->ipykernel->-r requirements.txt (line 10)) (4.4.2)\n",
      "Requirement already satisfied: colorama in c:\\users\\17200334\\appdata\\local\\programs\\python\\python38\\lib\\site-packages (from ipython>=5.0.0->ipykernel->-r requirements.txt (line 10)) (0.4.4)\n",
      "Requirement already satisfied: pygments in c:\\users\\17200334\\appdata\\local\\programs\\python\\python38\\lib\\site-packages (from ipython>=5.0.0->ipykernel->-r requirements.txt (line 10)) (2.7.2)\n",
      "Requirement already satisfied: prompt-toolkit!=3.0.0,!=3.0.1,<3.1.0,>=2.0.0 in c:\\users\\17200334\\appdata\\local\\programs\\python\\python38\\lib\\site-packages (from ipython>=5.0.0->ipykernel->-r requirements.txt (line 10)) (3.0.8)\n",
      "Requirement already satisfied: jedi>=0.10 in c:\\users\\17200334\\appdata\\local\\programs\\python\\python38\\lib\\site-packages (from ipython>=5.0.0->ipykernel->-r requirements.txt (line 10)) (0.17.2)\n",
      "Requirement already satisfied: backcall in c:\\users\\17200334\\appdata\\local\\programs\\python\\python38\\lib\\site-packages (from ipython>=5.0.0->ipykernel->-r requirements.txt (line 10)) (0.2.0)\n",
      "Requirement already satisfied: pickleshare in c:\\users\\17200334\\appdata\\local\\programs\\python\\python38\\lib\\site-packages (from ipython>=5.0.0->ipykernel->-r requirements.txt (line 10)) (0.7.5)\n",
      "Requirement already satisfied: setuptools>=18.5 in c:\\users\\17200334\\appdata\\local\\programs\\python\\python38\\lib\\site-packages (from ipython>=5.0.0->ipykernel->-r requirements.txt (line 10)) (47.1.0)\n",
      "Requirement already satisfied: parso<0.8.0,>=0.7.0 in c:\\users\\17200334\\appdata\\local\\programs\\python\\python38\\lib\\site-packages (from jedi>=0.10->ipython>=5.0.0->ipykernel->-r requirements.txt (line 10)) (0.7.1)\n",
      "Requirement already satisfied: wcwidth in c:\\users\\17200334\\appdata\\local\\programs\\python\\python38\\lib\\site-packages (from prompt-toolkit!=3.0.0,!=3.0.1,<3.1.0,>=2.0.0->ipython>=5.0.0->ipykernel->-r requirements.txt (line 10)) (0.2.5)\n",
      "Requirement already satisfied: ipython-genutils in c:\\users\\17200334\\appdata\\local\\programs\\python\\python38\\lib\\site-packages (from traitlets>=4.1.0->ipykernel->-r requirements.txt (line 10)) (0.2.0)\n",
      "Requirement already satisfied: notebook in c:\\users\\17200334\\appdata\\local\\programs\\python\\python38\\lib\\site-packages (from jupyter->-r requirements.txt (line 9)) (6.1.5)\n",
      "Requirement already satisfied: ipywidgets in c:\\users\\17200334\\appdata\\local\\programs\\python\\python38\\lib\\site-packages (from jupyter->-r requirements.txt (line 9)) (7.5.1)\n",
      "Requirement already satisfied: jupyter-console in c:\\users\\17200334\\appdata\\local\\programs\\python\\python38\\lib\\site-packages (from jupyter->-r requirements.txt (line 9)) (6.2.0)\n",
      "Requirement already satisfied: qtconsole in c:\\users\\17200334\\appdata\\local\\programs\\python\\python38\\lib\\site-packages (from jupyter->-r requirements.txt (line 9)) (4.7.7)\n",
      "Requirement already satisfied: nbconvert in c:\\users\\17200334\\appdata\\local\\programs\\python\\python38\\lib\\site-packages (from jupyter->-r requirements.txt (line 9)) (6.0.7)\n",
      "Requirement already satisfied: kiwisolver>=1.0.1 in c:\\users\\17200334\\appdata\\local\\programs\\python\\python38\\lib\\site-packages (from matplotlib->-r requirements.txt (line 8)) (1.3.1)\n",
      "Requirement already satisfied: python-dateutil>=2.1 in c:\\users\\17200334\\appdata\\local\\programs\\python\\python38\\lib\\site-packages (from matplotlib->-r requirements.txt (line 8)) (2.8.1)\n",
      "Requirement already satisfied: cycler>=0.10 in c:\\users\\17200334\\appdata\\local\\programs\\python\\python38\\lib\\site-packages (from matplotlib->-r requirements.txt (line 8)) (0.10.0)\n",
      "Requirement already satisfied: pyparsing!=2.0.4,!=2.1.2,!=2.1.6,>=2.0.3 in c:\\users\\17200334\\appdata\\local\\programs\\python\\python38\\lib\\site-packages (from matplotlib->-r requirements.txt (line 8)) (2.4.7)\n",
      "Requirement already satisfied: pillow>=6.2.0 in c:\\users\\17200334\\appdata\\local\\programs\\python\\python38\\lib\\site-packages (from matplotlib->-r requirements.txt (line 8)) (8.0.1)\n",
      "Requirement already satisfied: six in c:\\users\\17200334\\appdata\\local\\programs\\python\\python38\\lib\\site-packages (from cycler>=0.10->matplotlib->-r requirements.txt (line 8)) (1.15.0)\n",
      "Requirement already satisfied: pytz>=2017.2 in c:\\users\\17200334\\appdata\\local\\programs\\python\\python38\\lib\\site-packages (from pandas->-r requirements.txt (line 7)) (2020.4)\n",
      "Requirement already satisfied: ruamel.yaml.clib>=0.1.2 in c:\\users\\17200334\\appdata\\local\\programs\\python\\python38\\lib\\site-packages (from ruamel.yaml->-r requirements.txt (line 11)) (0.2.2)\n",
      "Requirement already satisfied: scipy>=0.19.1 in c:\\users\\17200334\\appdata\\local\\programs\\python\\python38\\lib\\site-packages (from scikit-learn->-r requirements.txt (line 3)) (1.5.4)\n",
      "Requirement already satisfied: threadpoolctl>=2.0.0 in c:\\users\\17200334\\appdata\\local\\programs\\python\\python38\\lib\\site-packages (from scikit-learn->-r requirements.txt (line 3)) (2.1.0)\n",
      "Requirement already satisfied: joblib>=0.11 in c:\\users\\17200334\\appdata\\local\\programs\\python\\python38\\lib\\site-packages (from scikit-learn->-r requirements.txt (line 3)) (0.17.0)\n",
      "Requirement already satisfied: h5py~=2.10.0 in c:\\users\\17200334\\appdata\\local\\programs\\python\\python38\\lib\\site-packages (from tensorflow->-r requirements.txt (line 12)) (2.10.0)\n",
      "Requirement already satisfied: protobuf>=3.9.2 in c:\\users\\17200334\\appdata\\local\\programs\\python\\python38\\lib\\site-packages (from tensorflow->-r requirements.txt (line 12)) (3.15.8)\n",
      "Requirement already satisfied: grpcio~=1.32.0 in c:\\users\\17200334\\appdata\\local\\programs\\python\\python38\\lib\\site-packages (from tensorflow->-r requirements.txt (line 12)) (1.32.0)\n",
      "Requirement already satisfied: gast==0.3.3 in c:\\users\\17200334\\appdata\\local\\programs\\python\\python38\\lib\\site-packages (from tensorflow->-r requirements.txt (line 12)) (0.3.3)\n",
      "Requirement already satisfied: flatbuffers~=1.12.0 in c:\\users\\17200334\\appdata\\local\\programs\\python\\python38\\lib\\site-packages (from tensorflow->-r requirements.txt (line 12)) (1.12)\n",
      "Requirement already satisfied: absl-py~=0.10 in c:\\users\\17200334\\appdata\\local\\programs\\python\\python38\\lib\\site-packages (from tensorflow->-r requirements.txt (line 12)) (0.12.0)\n",
      "Requirement already satisfied: google-pasta~=0.2 in c:\\users\\17200334\\appdata\\local\\programs\\python\\python38\\lib\\site-packages (from tensorflow->-r requirements.txt (line 12)) (0.2.0)\n",
      "Requirement already satisfied: termcolor~=1.1.0 in c:\\users\\17200334\\appdata\\local\\programs\\python\\python38\\lib\\site-packages (from tensorflow->-r requirements.txt (line 12)) (1.1.0)\n",
      "Requirement already satisfied: tensorboard~=2.4 in c:\\users\\17200334\\appdata\\local\\programs\\python\\python38\\lib\\site-packages (from tensorflow->-r requirements.txt (line 12)) (2.5.0)\n",
      "Requirement already satisfied: opt-einsum~=3.3.0 in c:\\users\\17200334\\appdata\\local\\programs\\python\\python38\\lib\\site-packages (from tensorflow->-r requirements.txt (line 12)) (3.3.0)\n",
      "Requirement already satisfied: keras-preprocessing~=1.1.2 in c:\\users\\17200334\\appdata\\local\\programs\\python\\python38\\lib\\site-packages (from tensorflow->-r requirements.txt (line 12)) (1.1.2)\n",
      "Requirement already satisfied: typing-extensions~=3.7.4 in c:\\users\\17200334\\appdata\\local\\programs\\python\\python38\\lib\\site-packages (from tensorflow->-r requirements.txt (line 12)) (3.7.4.3)\n",
      "Requirement already satisfied: astunparse~=1.6.3 in c:\\users\\17200334\\appdata\\local\\programs\\python\\python38\\lib\\site-packages (from tensorflow->-r requirements.txt (line 12)) (1.6.3)\n",
      "Requirement already satisfied: wrapt~=1.12.1 in c:\\users\\17200334\\appdata\\local\\programs\\python\\python38\\lib\\site-packages (from tensorflow->-r requirements.txt (line 12)) (1.12.1)\n",
      "Requirement already satisfied: tensorflow-estimator<2.5.0,>=2.4.0 in c:\\users\\17200334\\appdata\\local\\programs\\python\\python38\\lib\\site-packages (from tensorflow->-r requirements.txt (line 12)) (2.4.0)\n",
      "Requirement already satisfied: wheel~=0.35 in c:\\users\\17200334\\appdata\\local\\programs\\python\\python38\\lib\\site-packages (from tensorflow->-r requirements.txt (line 12)) (0.36.2)\n",
      "Requirement already satisfied: google-auth-oauthlib<0.5,>=0.4.1 in c:\\users\\17200334\\appdata\\local\\programs\\python\\python38\\lib\\site-packages (from tensorboard~=2.4->tensorflow->-r requirements.txt (line 12)) (0.4.4)\n",
      "Requirement already satisfied: tensorboard-plugin-wit>=1.6.0 in c:\\users\\17200334\\appdata\\local\\programs\\python\\python38\\lib\\site-packages (from tensorboard~=2.4->tensorflow->-r requirements.txt (line 12)) (1.8.0)\n",
      "Requirement already satisfied: google-auth<2,>=1.6.3 in c:\\users\\17200334\\appdata\\local\\programs\\python\\python38\\lib\\site-packages (from tensorboard~=2.4->tensorflow->-r requirements.txt (line 12)) (1.29.0)\n",
      "Requirement already satisfied: requests<3,>=2.21.0 in c:\\users\\17200334\\appdata\\local\\programs\\python\\python38\\lib\\site-packages (from tensorboard~=2.4->tensorflow->-r requirements.txt (line 12)) (2.25.1)\n",
      "Requirement already satisfied: tensorboard-data-server<0.7.0,>=0.6.0 in c:\\users\\17200334\\appdata\\local\\programs\\python\\python38\\lib\\site-packages (from tensorboard~=2.4->tensorflow->-r requirements.txt (line 12)) (0.6.0)\n",
      "Requirement already satisfied: markdown>=2.6.8 in c:\\users\\17200334\\appdata\\local\\programs\\python\\python38\\lib\\site-packages (from tensorboard~=2.4->tensorflow->-r requirements.txt (line 12)) (3.3.4)\n",
      "Requirement already satisfied: werkzeug>=0.11.15 in c:\\users\\17200334\\appdata\\local\\programs\\python\\python38\\lib\\site-packages (from tensorboard~=2.4->tensorflow->-r requirements.txt (line 12)) (1.0.1)\n",
      "Requirement already satisfied: rsa<5,>=3.1.4 in c:\\users\\17200334\\appdata\\local\\programs\\python\\python38\\lib\\site-packages (from google-auth<2,>=1.6.3->tensorboard~=2.4->tensorflow->-r requirements.txt (line 12)) (4.7.2)\n",
      "Requirement already satisfied: cachetools<5.0,>=2.0.0 in c:\\users\\17200334\\appdata\\local\\programs\\python\\python38\\lib\\site-packages (from google-auth<2,>=1.6.3->tensorboard~=2.4->tensorflow->-r requirements.txt (line 12)) (4.2.1)\n",
      "Requirement already satisfied: pyasn1-modules>=0.2.1 in c:\\users\\17200334\\appdata\\local\\programs\\python\\python38\\lib\\site-packages (from google-auth<2,>=1.6.3->tensorboard~=2.4->tensorflow->-r requirements.txt (line 12)) (0.2.8)\n",
      "Requirement already satisfied: requests-oauthlib>=0.7.0 in c:\\users\\17200334\\appdata\\local\\programs\\python\\python38\\lib\\site-packages (from google-auth-oauthlib<0.5,>=0.4.1->tensorboard~=2.4->tensorflow->-r requirements.txt (line 12)) (1.3.0)\n",
      "Requirement already satisfied: pyasn1<0.5.0,>=0.4.6 in c:\\users\\17200334\\appdata\\local\\programs\\python\\python38\\lib\\site-packages (from pyasn1-modules>=0.2.1->google-auth<2,>=1.6.3->tensorboard~=2.4->tensorflow->-r requirements.txt (line 12)) (0.4.8)\n",
      "Requirement already satisfied: idna<3,>=2.5 in c:\\users\\17200334\\appdata\\local\\programs\\python\\python38\\lib\\site-packages (from requests<3,>=2.21.0->tensorboard~=2.4->tensorflow->-r requirements.txt (line 12)) (2.10)\n",
      "Requirement already satisfied: urllib3<1.27,>=1.21.1 in c:\\users\\17200334\\appdata\\local\\programs\\python\\python38\\lib\\site-packages (from requests<3,>=2.21.0->tensorboard~=2.4->tensorflow->-r requirements.txt (line 12)) (1.26.3)\n",
      "Requirement already satisfied: chardet<5,>=3.0.2 in c:\\users\\17200334\\appdata\\local\\programs\\python\\python38\\lib\\site-packages (from requests<3,>=2.21.0->tensorboard~=2.4->tensorflow->-r requirements.txt (line 12)) (4.0.0)\n",
      "Requirement already satisfied: certifi>=2017.4.17 in c:\\users\\17200334\\appdata\\local\\programs\\python\\python38\\lib\\site-packages (from requests<3,>=2.21.0->tensorboard~=2.4->tensorflow->-r requirements.txt (line 12)) (2020.12.5)\n",
      "Requirement already satisfied: oauthlib>=3.0.0 in c:\\users\\17200334\\appdata\\local\\programs\\python\\python38\\lib\\site-packages (from requests-oauthlib>=0.7.0->google-auth-oauthlib<0.5,>=0.4.1->tensorboard~=2.4->tensorflow->-r requirements.txt (line 12)) (3.1.0)\n",
      "Requirement already satisfied: nbformat>=4.2.0 in c:\\users\\17200334\\appdata\\local\\programs\\python\\python38\\lib\\site-packages (from ipywidgets->jupyter->-r requirements.txt (line 9)) (5.0.8)\n",
      "Requirement already satisfied: widgetsnbextension~=3.5.0 in c:\\users\\17200334\\appdata\\local\\programs\\python\\python38\\lib\\site-packages (from ipywidgets->jupyter->-r requirements.txt (line 9)) (3.5.1)\n",
      "Requirement already satisfied: jupyter-core in c:\\users\\17200334\\appdata\\local\\programs\\python\\python38\\lib\\site-packages (from nbformat>=4.2.0->ipywidgets->jupyter->-r requirements.txt (line 9)) (4.6.3)\n",
      "Requirement already satisfied: jsonschema!=2.5.0,>=2.4 in c:\\users\\17200334\\appdata\\local\\programs\\python\\python38\\lib\\site-packages (from nbformat>=4.2.0->ipywidgets->jupyter->-r requirements.txt (line 9)) (3.2.0)\n",
      "Requirement already satisfied: pyrsistent>=0.14.0 in c:\\users\\17200334\\appdata\\local\\programs\\python\\python38\\lib\\site-packages (from jsonschema!=2.5.0,>=2.4->nbformat>=4.2.0->ipywidgets->jupyter->-r requirements.txt (line 9)) (0.17.3)\n",
      "Requirement already satisfied: attrs>=17.4.0 in c:\\users\\17200334\\appdata\\local\\programs\\python\\python38\\lib\\site-packages (from jsonschema!=2.5.0,>=2.4->nbformat>=4.2.0->ipywidgets->jupyter->-r requirements.txt (line 9)) (20.3.0)\n",
      "Requirement already satisfied: pyzmq>=17 in c:\\users\\17200334\\appdata\\local\\programs\\python\\python38\\lib\\site-packages (from notebook->jupyter->-r requirements.txt (line 9)) (20.0.0)\n",
      "Requirement already satisfied: argon2-cffi in c:\\users\\17200334\\appdata\\local\\programs\\python\\python38\\lib\\site-packages (from notebook->jupyter->-r requirements.txt (line 9)) (20.1.0)\n",
      "Requirement already satisfied: prometheus-client in c:\\users\\17200334\\appdata\\local\\programs\\python\\python38\\lib\\site-packages (from notebook->jupyter->-r requirements.txt (line 9)) (0.8.0)\n",
      "Requirement already satisfied: jinja2 in c:\\users\\17200334\\appdata\\local\\programs\\python\\python38\\lib\\site-packages (from notebook->jupyter->-r requirements.txt (line 9)) (2.11.2)\n",
      "Requirement already satisfied: Send2Trash in c:\\users\\17200334\\appdata\\local\\programs\\python\\python38\\lib\\site-packages (from notebook->jupyter->-r requirements.txt (line 9)) (1.5.0)\n",
      "Requirement already satisfied: terminado>=0.8.3 in c:\\users\\17200334\\appdata\\local\\programs\\python\\python38\\lib\\site-packages (from notebook->jupyter->-r requirements.txt (line 9)) (0.9.1)\n",
      "Requirement already satisfied: pywin32>=1.0 in c:\\users\\17200334\\appdata\\local\\programs\\python\\python38\\lib\\site-packages (from jupyter-core->nbformat>=4.2.0->ipywidgets->jupyter->-r requirements.txt (line 9)) (300)\n",
      "Requirement already satisfied: pywinpty>=0.5 in c:\\users\\17200334\\appdata\\local\\programs\\python\\python38\\lib\\site-packages (from terminado>=0.8.3->notebook->jupyter->-r requirements.txt (line 9)) (0.5.7)\n",
      "Requirement already satisfied: cffi>=1.0.0 in c:\\users\\17200334\\appdata\\local\\programs\\python\\python38\\lib\\site-packages (from argon2-cffi->notebook->jupyter->-r requirements.txt (line 9)) (1.14.3)\n",
      "Requirement already satisfied: pycparser in c:\\users\\17200334\\appdata\\local\\programs\\python\\python38\\lib\\site-packages (from cffi>=1.0.0->argon2-cffi->notebook->jupyter->-r requirements.txt (line 9)) (2.20)\n",
      "Requirement already satisfied: MarkupSafe>=0.23 in c:\\users\\17200334\\appdata\\local\\programs\\python\\python38\\lib\\site-packages (from jinja2->notebook->jupyter->-r requirements.txt (line 9)) (1.1.1)\n",
      "Requirement already satisfied: testpath in c:\\users\\17200334\\appdata\\local\\programs\\python\\python38\\lib\\site-packages (from nbconvert->jupyter->-r requirements.txt (line 9)) (0.4.4)\n",
      "Requirement already satisfied: defusedxml in c:\\users\\17200334\\appdata\\local\\programs\\python\\python38\\lib\\site-packages (from nbconvert->jupyter->-r requirements.txt (line 9)) (0.6.0)\n",
      "Requirement already satisfied: jupyterlab-pygments in c:\\users\\17200334\\appdata\\local\\programs\\python\\python38\\lib\\site-packages (from nbconvert->jupyter->-r requirements.txt (line 9)) (0.1.2)\n",
      "Requirement already satisfied: entrypoints>=0.2.2 in c:\\users\\17200334\\appdata\\local\\programs\\python\\python38\\lib\\site-packages (from nbconvert->jupyter->-r requirements.txt (line 9)) (0.3)\n",
      "Requirement already satisfied: nbclient<0.6.0,>=0.5.0 in c:\\users\\17200334\\appdata\\local\\programs\\python\\python38\\lib\\site-packages (from nbconvert->jupyter->-r requirements.txt (line 9)) (0.5.1)\n",
      "Requirement already satisfied: mistune<2,>=0.8.1 in c:\\users\\17200334\\appdata\\local\\programs\\python\\python38\\lib\\site-packages (from nbconvert->jupyter->-r requirements.txt (line 9)) (0.8.4)\n",
      "Requirement already satisfied: pandocfilters>=1.4.1 in c:\\users\\17200334\\appdata\\local\\programs\\python\\python38\\lib\\site-packages (from nbconvert->jupyter->-r requirements.txt (line 9)) (1.4.3)\n",
      "Requirement already satisfied: bleach in c:\\users\\17200334\\appdata\\local\\programs\\python\\python38\\lib\\site-packages (from nbconvert->jupyter->-r requirements.txt (line 9)) (3.2.1)\n",
      "Requirement already satisfied: nest-asyncio in c:\\users\\17200334\\appdata\\local\\programs\\python\\python38\\lib\\site-packages (from nbclient<0.6.0,>=0.5.0->nbconvert->jupyter->-r requirements.txt (line 9)) (1.4.3)\n",
      "Requirement already satisfied: async-generator in c:\\users\\17200334\\appdata\\local\\programs\\python\\python38\\lib\\site-packages (from nbclient<0.6.0,>=0.5.0->nbconvert->jupyter->-r requirements.txt (line 9)) (1.10)\n",
      "Requirement already satisfied: packaging in c:\\users\\17200334\\appdata\\local\\programs\\python\\python38\\lib\\site-packages (from bleach->nbconvert->jupyter->-r requirements.txt (line 9)) (20.4)\n",
      "Requirement already satisfied: webencodings in c:\\users\\17200334\\appdata\\local\\programs\\python\\python38\\lib\\site-packages (from bleach->nbconvert->jupyter->-r requirements.txt (line 9)) (0.5.1)\n",
      "Requirement already satisfied: qtpy in c:\\users\\17200334\\appdata\\local\\programs\\python\\python38\\lib\\site-packages (from qtconsole->jupyter->-r requirements.txt (line 9)) (1.9.0)\n",
      "Building wheels for collected packages: pathlib\n",
      "  Building wheel for pathlib (setup.py): started\n",
      "  Building wheel for pathlib (setup.py): finished with status 'done'\n",
      "  Created wheel for pathlib: filename=pathlib-1.0.1-py3-none-any.whl size=14347 sha256=7b34f984ffc55441cd05dbb9649949aa0e563442de5c6f8e5f0adb1da1614b55\n",
      "  Stored in directory: c:\\users\\17200334\\appdata\\local\\pip\\cache\\wheels\\59\\02\\2f\\ff4a3e16a518feb111ae1405908094483ef56fec0dfa39e571\n",
      "Successfully built pathlib\n",
      "Installing collected packages: pathlib\n",
      "Successfully installed pathlib-1.0.1\n"
     ]
    }
   ],
   "source": [
    "! pip install -r requirements.txt"
   ]
  },
  {
   "cell_type": "markdown",
   "metadata": {},
   "source": [
    "## Step 2: Save the dataset in the correct position as shown in the structure"
   ]
  },
  {
   "cell_type": "markdown",
   "metadata": {},
   "source": [
    "## Step 3: Run Main notebook to have everything"
   ]
  },
  {
   "cell_type": "markdown",
   "metadata": {},
   "source": [
    "## Note: If any problem occurs when you run the code, please contact me via Email: \n",
    "### jiwei.zhang@ucdconnect.ie"
   ]
  },
  {
   "cell_type": "code",
   "execution_count": null,
   "metadata": {},
   "outputs": [],
   "source": []
  }
 ],
 "metadata": {
  "kernelspec": {
   "display_name": "Python 3",
   "language": "python",
   "name": "python3"
  },
  "language_info": {
   "codemirror_mode": {
    "name": "ipython",
    "version": 3
   },
   "file_extension": ".py",
   "mimetype": "text/x-python",
   "name": "python",
   "nbconvert_exporter": "python",
   "pygments_lexer": "ipython3",
   "version": "3.8.5"
  }
 },
 "nbformat": 4,
 "nbformat_minor": 4
}
